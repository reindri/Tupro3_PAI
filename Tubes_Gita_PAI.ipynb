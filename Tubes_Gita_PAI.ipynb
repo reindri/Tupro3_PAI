{
  "nbformat": 4,
  "nbformat_minor": 0,
  "metadata": {
    "colab": {
      "name": "Tubes_Gita_PAI.ipynb",
      "provenance": [],
      "collapsed_sections": [],
      "include_colab_link": true
    },
    "kernelspec": {
      "name": "python3",
      "display_name": "Python 3"
    },
    "language_info": {
      "name": "python"
    }
  },
  "cells": [
    {
      "cell_type": "markdown",
      "metadata": {
        "id": "view-in-github",
        "colab_type": "text"
      },
      "source": [
        "<a href=\"https://colab.research.google.com/github/reindri/Tupro3_PAI/blob/main/Tubes_Gita_PAI.ipynb\" target=\"_parent\"><img src=\"https://colab.research.google.com/assets/colab-badge.svg\" alt=\"Open In Colab\"/></a>"
      ]
    },
    {
      "cell_type": "markdown",
      "source": [
        "# Library"
      ],
      "metadata": {
        "id": "u56toJq9T3I5"
      }
    },
    {
      "cell_type": "code",
      "source": [
        "import pandas as pd\n",
        "import numpy as np\n",
        "import seaborn as sn\n",
        "import matplotlib.pyplot as plt\n",
        "\n",
        "from sklearn.model_selection import KFold, cross_val_score\n",
        "from sklearn.preprocessing import MaxAbsScaler, MinMaxScaler, Normalizer, StandardScaler, RobustScaler\n",
        "from sklearn.metrics import classification_report, confusion_matrix"
      ],
      "metadata": {
        "id": "DRnjI2cyTxc3"
      },
      "execution_count": null,
      "outputs": []
    },
    {
      "cell_type": "markdown",
      "source": [
        "# Dataset Preprocessing"
      ],
      "metadata": {
        "id": "ac0tnG6PT5EC"
      }
    },
    {
      "cell_type": "markdown",
      "source": [
        "## Train"
      ],
      "metadata": {
        "id": "UDA4o4P8T8SL"
      }
    },
    {
      "cell_type": "code",
      "execution_count": null,
      "metadata": {
        "id": "miIS_WSk_3kR",
        "outputId": "52fcad11-8775-4c6a-9d21-6dfd80b9545e",
        "colab": {
          "base_uri": "https://localhost:8080/",
          "height": 455
        }
      },
      "outputs": [
        {
          "output_type": "execute_result",
          "data": {
            "text/plain": [
              "     x1  x2  x3  y\n",
              "id                \n",
              "1    60  64   0  1\n",
              "2    54  60  11  0\n",
              "3    65  62  22  0\n",
              "4    34  60   0  1\n",
              "5    38  69  21  0\n",
              "..   ..  ..  .. ..\n",
              "292  59  64   1  1\n",
              "293  65  67   0  1\n",
              "294  53  65  12  0\n",
              "295  57  64   1  0\n",
              "296  54  59   7  1\n",
              "\n",
              "[296 rows x 4 columns]"
            ],
            "text/html": [
              "\n",
              "  <div id=\"df-2224362d-31e1-4144-9f9f-5c234962e123\">\n",
              "    <div class=\"colab-df-container\">\n",
              "      <div>\n",
              "<style scoped>\n",
              "    .dataframe tbody tr th:only-of-type {\n",
              "        vertical-align: middle;\n",
              "    }\n",
              "\n",
              "    .dataframe tbody tr th {\n",
              "        vertical-align: top;\n",
              "    }\n",
              "\n",
              "    .dataframe thead th {\n",
              "        text-align: right;\n",
              "    }\n",
              "</style>\n",
              "<table border=\"1\" class=\"dataframe\">\n",
              "  <thead>\n",
              "    <tr style=\"text-align: right;\">\n",
              "      <th></th>\n",
              "      <th>x1</th>\n",
              "      <th>x2</th>\n",
              "      <th>x3</th>\n",
              "      <th>y</th>\n",
              "    </tr>\n",
              "    <tr>\n",
              "      <th>id</th>\n",
              "      <th></th>\n",
              "      <th></th>\n",
              "      <th></th>\n",
              "      <th></th>\n",
              "    </tr>\n",
              "  </thead>\n",
              "  <tbody>\n",
              "    <tr>\n",
              "      <th>1</th>\n",
              "      <td>60</td>\n",
              "      <td>64</td>\n",
              "      <td>0</td>\n",
              "      <td>1</td>\n",
              "    </tr>\n",
              "    <tr>\n",
              "      <th>2</th>\n",
              "      <td>54</td>\n",
              "      <td>60</td>\n",
              "      <td>11</td>\n",
              "      <td>0</td>\n",
              "    </tr>\n",
              "    <tr>\n",
              "      <th>3</th>\n",
              "      <td>65</td>\n",
              "      <td>62</td>\n",
              "      <td>22</td>\n",
              "      <td>0</td>\n",
              "    </tr>\n",
              "    <tr>\n",
              "      <th>4</th>\n",
              "      <td>34</td>\n",
              "      <td>60</td>\n",
              "      <td>0</td>\n",
              "      <td>1</td>\n",
              "    </tr>\n",
              "    <tr>\n",
              "      <th>5</th>\n",
              "      <td>38</td>\n",
              "      <td>69</td>\n",
              "      <td>21</td>\n",
              "      <td>0</td>\n",
              "    </tr>\n",
              "    <tr>\n",
              "      <th>...</th>\n",
              "      <td>...</td>\n",
              "      <td>...</td>\n",
              "      <td>...</td>\n",
              "      <td>...</td>\n",
              "    </tr>\n",
              "    <tr>\n",
              "      <th>292</th>\n",
              "      <td>59</td>\n",
              "      <td>64</td>\n",
              "      <td>1</td>\n",
              "      <td>1</td>\n",
              "    </tr>\n",
              "    <tr>\n",
              "      <th>293</th>\n",
              "      <td>65</td>\n",
              "      <td>67</td>\n",
              "      <td>0</td>\n",
              "      <td>1</td>\n",
              "    </tr>\n",
              "    <tr>\n",
              "      <th>294</th>\n",
              "      <td>53</td>\n",
              "      <td>65</td>\n",
              "      <td>12</td>\n",
              "      <td>0</td>\n",
              "    </tr>\n",
              "    <tr>\n",
              "      <th>295</th>\n",
              "      <td>57</td>\n",
              "      <td>64</td>\n",
              "      <td>1</td>\n",
              "      <td>0</td>\n",
              "    </tr>\n",
              "    <tr>\n",
              "      <th>296</th>\n",
              "      <td>54</td>\n",
              "      <td>59</td>\n",
              "      <td>7</td>\n",
              "      <td>1</td>\n",
              "    </tr>\n",
              "  </tbody>\n",
              "</table>\n",
              "<p>296 rows × 4 columns</p>\n",
              "</div>\n",
              "      <button class=\"colab-df-convert\" onclick=\"convertToInteractive('df-2224362d-31e1-4144-9f9f-5c234962e123')\"\n",
              "              title=\"Convert this dataframe to an interactive table.\"\n",
              "              style=\"display:none;\">\n",
              "        \n",
              "  <svg xmlns=\"http://www.w3.org/2000/svg\" height=\"24px\"viewBox=\"0 0 24 24\"\n",
              "       width=\"24px\">\n",
              "    <path d=\"M0 0h24v24H0V0z\" fill=\"none\"/>\n",
              "    <path d=\"M18.56 5.44l.94 2.06.94-2.06 2.06-.94-2.06-.94-.94-2.06-.94 2.06-2.06.94zm-11 1L8.5 8.5l.94-2.06 2.06-.94-2.06-.94L8.5 2.5l-.94 2.06-2.06.94zm10 10l.94 2.06.94-2.06 2.06-.94-2.06-.94-.94-2.06-.94 2.06-2.06.94z\"/><path d=\"M17.41 7.96l-1.37-1.37c-.4-.4-.92-.59-1.43-.59-.52 0-1.04.2-1.43.59L10.3 9.45l-7.72 7.72c-.78.78-.78 2.05 0 2.83L4 21.41c.39.39.9.59 1.41.59.51 0 1.02-.2 1.41-.59l7.78-7.78 2.81-2.81c.8-.78.8-2.07 0-2.86zM5.41 20L4 18.59l7.72-7.72 1.47 1.35L5.41 20z\"/>\n",
              "  </svg>\n",
              "      </button>\n",
              "      \n",
              "  <style>\n",
              "    .colab-df-container {\n",
              "      display:flex;\n",
              "      flex-wrap:wrap;\n",
              "      gap: 12px;\n",
              "    }\n",
              "\n",
              "    .colab-df-convert {\n",
              "      background-color: #E8F0FE;\n",
              "      border: none;\n",
              "      border-radius: 50%;\n",
              "      cursor: pointer;\n",
              "      display: none;\n",
              "      fill: #1967D2;\n",
              "      height: 32px;\n",
              "      padding: 0 0 0 0;\n",
              "      width: 32px;\n",
              "    }\n",
              "\n",
              "    .colab-df-convert:hover {\n",
              "      background-color: #E2EBFA;\n",
              "      box-shadow: 0px 1px 2px rgba(60, 64, 67, 0.3), 0px 1px 3px 1px rgba(60, 64, 67, 0.15);\n",
              "      fill: #174EA6;\n",
              "    }\n",
              "\n",
              "    [theme=dark] .colab-df-convert {\n",
              "      background-color: #3B4455;\n",
              "      fill: #D2E3FC;\n",
              "    }\n",
              "\n",
              "    [theme=dark] .colab-df-convert:hover {\n",
              "      background-color: #434B5C;\n",
              "      box-shadow: 0px 1px 3px 1px rgba(0, 0, 0, 0.15);\n",
              "      filter: drop-shadow(0px 1px 2px rgba(0, 0, 0, 0.3));\n",
              "      fill: #FFFFFF;\n",
              "    }\n",
              "  </style>\n",
              "\n",
              "      <script>\n",
              "        const buttonEl =\n",
              "          document.querySelector('#df-2224362d-31e1-4144-9f9f-5c234962e123 button.colab-df-convert');\n",
              "        buttonEl.style.display =\n",
              "          google.colab.kernel.accessAllowed ? 'block' : 'none';\n",
              "\n",
              "        async function convertToInteractive(key) {\n",
              "          const element = document.querySelector('#df-2224362d-31e1-4144-9f9f-5c234962e123');\n",
              "          const dataTable =\n",
              "            await google.colab.kernel.invokeFunction('convertToInteractive',\n",
              "                                                     [key], {});\n",
              "          if (!dataTable) return;\n",
              "\n",
              "          const docLinkHtml = 'Like what you see? Visit the ' +\n",
              "            '<a target=\"_blank\" href=https://colab.research.google.com/notebooks/data_table.ipynb>data table notebook</a>'\n",
              "            + ' to learn more about interactive tables.';\n",
              "          element.innerHTML = '';\n",
              "          dataTable['output_type'] = 'display_data';\n",
              "          await google.colab.output.renderOutput(dataTable, element);\n",
              "          const docLink = document.createElement('div');\n",
              "          docLink.innerHTML = docLinkHtml;\n",
              "          element.appendChild(docLink);\n",
              "        }\n",
              "      </script>\n",
              "    </div>\n",
              "  </div>\n",
              "  "
            ]
          },
          "metadata": {},
          "execution_count": 2
        }
      ],
      "source": [
        "train = pd.read_excel('https://github.com/reindri/Tupro3_PAI/blob/main/traintest.xlsx?raw=true', index_col='id', sheet_name='train')\n",
        "train"
      ]
    },
    {
      "cell_type": "code",
      "source": [
        "train.info()"
      ],
      "metadata": {
        "id": "4GiT9KzrUQ58"
      },
      "execution_count": null,
      "outputs": []
    },
    {
      "cell_type": "code",
      "source": [
        "train.describe()"
      ],
      "metadata": {
        "id": "hLhKkKCHOztt"
      },
      "execution_count": null,
      "outputs": []
    },
    {
      "cell_type": "code",
      "source": [
        "data_train = train[['x1','x2','x3']]\n",
        "label_train = train['y']"
      ],
      "metadata": {
        "id": "FWus6xtAVWfn"
      },
      "execution_count": null,
      "outputs": []
    },
    {
      "cell_type": "code",
      "source": [
        "data_train"
      ],
      "metadata": {
        "id": "mQ9Zat7SVeeT"
      },
      "execution_count": null,
      "outputs": []
    },
    {
      "cell_type": "code",
      "source": [
        "label_train"
      ],
      "metadata": {
        "id": "j_D2nUNNVfN8"
      },
      "execution_count": null,
      "outputs": []
    },
    {
      "cell_type": "markdown",
      "source": [
        "## Scaling data"
      ],
      "metadata": {
        "id": "cYcnZ3VHfEyZ"
      }
    },
    {
      "cell_type": "code",
      "source": [
        "data_train_scaled_robust = pd.DataFrame(RobustScaler().fit_transform(data_train), columns=data_train.columns, index=data_train.index)\n",
        "data_train_scaled_robust"
      ],
      "metadata": {
        "id": "bv7nmnIvX6cQ"
      },
      "execution_count": null,
      "outputs": []
    },
    {
      "cell_type": "code",
      "source": [
        "data_train_scaled_standard = pd.DataFrame(StandardScaler().fit_transform(data_train), columns=data_train.columns, index=data_train.index)\n",
        "data_train_scaled_standard"
      ],
      "metadata": {
        "id": "KmIdAn9hX5Dv"
      },
      "execution_count": null,
      "outputs": []
    },
    {
      "cell_type": "code",
      "source": [
        "data_train_scaled_normalizer = pd.DataFrame(Normalizer().fit_transform(data_train), columns=data_train.columns, index=data_train.index)\n",
        "data_train_scaled_normalizer"
      ],
      "metadata": {
        "id": "PIeC0eMpX3iQ"
      },
      "execution_count": null,
      "outputs": []
    },
    {
      "cell_type": "code",
      "source": [
        "data_train_scaled_maxabs = pd.DataFrame(MaxAbsScaler().fit_transform(data_train), columns=data_train.columns, index=data_train.index)\n",
        "data_train_scaled_maxabs"
      ],
      "metadata": {
        "id": "khj-X3TfX2Ia"
      },
      "execution_count": null,
      "outputs": []
    },
    {
      "cell_type": "code",
      "source": [
        "data_train_scaled_minmax = pd.DataFrame(MinMaxScaler().fit_transform(data_train), columns=data_train.columns, index=data_train.index)\n",
        "data_train_scaled_minmax"
      ],
      "metadata": {
        "id": "mhbOzZv-Xym3"
      },
      "execution_count": null,
      "outputs": []
    },
    {
      "cell_type": "markdown",
      "source": [
        "# Method"
      ],
      "metadata": {
        "id": "qiCXNlBRWLJU"
      }
    },
    {
      "cell_type": "code",
      "source": [
        "class NaiveBayes:\n",
        "  def fit(self, X, y):\n",
        "    # get number of samples (rows) and features (columns)\n",
        "    self.n_samples, self.n_features = X.shape\n",
        "    # get number of uniques classes\n",
        "    self.n_classes = len(np.unique(y))\n",
        "\n",
        "    # create three zero-matrices to store summary stats & prior\n",
        "    self.mean = np.zeros((self.n_classes, self.n_features))\n",
        "    self.variance = np.zeros((self.n_classes, self.n_features))\n",
        "    self.priors = np.zeros(self.n_classes)\n",
        "\n",
        "    for c in range(self.n_classes):\n",
        "      # create a subset of data for the specific class 'c'\n",
        "      X_c = X[y == c]\n",
        "\n",
        "      # calculate statistics and update zero-matrices, rows=classes, cols=features\n",
        "      self.mean[c, :] = np.mean(X_c, axis=0)\n",
        "      self.variance[c, :] = np.var(X_c, axis=0)\n",
        "      self.priors[c] = X_c.shape[0] / self.n_samples\n",
        "\n",
        "  def predict(self, X):\n",
        "    # for each sample x in the dataset X\n",
        "    y_hat = [self.get_class_probability(x) for x in X.values]\n",
        "    return np.array(y_hat)\n",
        "\n",
        "  def get_class_probability(self, x):\n",
        "    # store new posteriors for each class in a single list\n",
        "    posteriors = list()\n",
        "\n",
        "    for c in range(self.n_classes):\n",
        "      # get summary stats & prior\n",
        "      mean = self.mean[c]\n",
        "      variance = self.variance[c]\n",
        "      prior = np.log(self.priors[c])\n",
        "      # calculate new posterior & append to list\n",
        "      posterior = np.sum(np.log(self.gaussian_density(x, mean, variance)))\n",
        "      posterior = prior + posterior\n",
        "      posteriors.append(posterior)\n",
        "\n",
        "    # return the index with the highest class probability\n",
        "    return np.argmax(posteriors)\n",
        "\n",
        "  def gaussian_density(self, x, mean, var):\n",
        "    # implementation of gaussian density function\n",
        "    const = 1 / np.sqrt(var * 2 * np.pi)\n",
        "    proba = np.exp(-0.5 * ((x - mean) ** 2 / var))\n",
        "    return const * proba"
      ],
      "metadata": {
        "id": "mdO2FabNBJw2"
      },
      "execution_count": null,
      "outputs": []
    },
    {
      "cell_type": "code",
      "source": [
        "def start_classifying(data,label, n_splits=5):\n",
        "  kf = KFold(n_splits = n_splits)\n",
        "  f = 1\n",
        "  rata_rata_akurasi = []\n",
        "  for train_index, test_index in kf.split(data):\n",
        "    print('Fold :', f)\n",
        "    x_train, x_test = data.iloc[train_index], data.iloc[test_index]\n",
        "    y_train, y_test = label.iloc[train_index], label.iloc[test_index]\n",
        "\n",
        "    nb = NaiveBayes()\n",
        "    nb.fit(x_train, y_train)\n",
        "    predict = nb.predict(x_test)\n",
        "\n",
        "    print(classification_report(predict, y_test))\n",
        "    print()\n",
        "\n",
        "    cnf_matrix = confusion_matrix(predict,y_test)\n",
        "    s = sn.heatmap(cnf_matrix,#/np.sum(cnf_matrix),\n",
        "              annot=True,\n",
        "              #fmt='.2%',\n",
        "              xticklabels = ['0','1'],\n",
        "              yticklabels = ['0','1'],\n",
        "              );\n",
        "    s.set_xlabel('Predicted Label');\n",
        "    s.set_ylabel('True Label');\n",
        "    plt.show()\n",
        "\n",
        "    rata_rata_akurasi.append(((cnf_matrix[0,0] + cnf_matrix[1,1]) / sum(sum(cnf_matrix))) * 100)\n",
        "    f+=1\n",
        "    print('-'*100)\n",
        "\n",
        "  print(f'Rata-Rata Akurasi dari \\nK-Fold Cross Validation adalah : {np.mean(rata_rata_akurasi):.3f} %' )"
      ],
      "metadata": {
        "id": "veGp3ui1Gynb"
      },
      "execution_count": null,
      "outputs": []
    },
    {
      "cell_type": "code",
      "source": [
        "start_classifying(data_train, label_train, n_splits= 5)"
      ],
      "metadata": {
        "id": "LUsBX1slWy1D"
      },
      "execution_count": null,
      "outputs": []
    },
    {
      "cell_type": "code",
      "source": [
        "start_classifying(data_train_scaled_robust, label_train, n_splits= 5)"
      ],
      "metadata": {
        "id": "6_964GQDTSOk"
      },
      "execution_count": null,
      "outputs": []
    },
    {
      "cell_type": "code",
      "source": [
        "start_classifying(data_train_scaled_standard, label_train, n_splits= 5)"
      ],
      "metadata": {
        "id": "QjAAqsSpZ8sX"
      },
      "execution_count": null,
      "outputs": []
    },
    {
      "cell_type": "code",
      "source": [
        "start_classifying(data_train_scaled_minmax, label_train, n_splits= 5)"
      ],
      "metadata": {
        "id": "ztGjc9KkZ-aH"
      },
      "execution_count": null,
      "outputs": []
    },
    {
      "cell_type": "code",
      "source": [
        "start_classifying(data_train_scaled_maxabs, label_train, n_splits= 5)"
      ],
      "metadata": {
        "id": "Ny7ykx9aZ_jM"
      },
      "execution_count": null,
      "outputs": []
    },
    {
      "cell_type": "code",
      "source": [
        "start_classifying(data_train_scaled_normalizer, label_train, n_splits= 5)"
      ],
      "metadata": {
        "id": "Gf1kLZNUaFMH"
      },
      "execution_count": null,
      "outputs": []
    },
    {
      "cell_type": "markdown",
      "source": [
        "# Test"
      ],
      "metadata": {
        "id": "JOLr1TQYT-IY"
      }
    },
    {
      "cell_type": "code",
      "source": [
        "test = pd.read_excel('https://github.com/reindri/Tupro3_PAI/blob/main/traintest.xlsx?raw=true', index_col='id', sheet_name='test')\n",
        "test"
      ],
      "metadata": {
        "id": "r4NUx42aGa2C"
      },
      "execution_count": null,
      "outputs": []
    },
    {
      "cell_type": "code",
      "source": [
        "test.info()"
      ],
      "metadata": {
        "id": "yjUoKLuOVRiU"
      },
      "execution_count": null,
      "outputs": []
    },
    {
      "cell_type": "code",
      "source": [
        "test.describe()"
      ],
      "metadata": {
        "id": "j5DZ9jLNPF9i"
      },
      "execution_count": null,
      "outputs": []
    },
    {
      "cell_type": "code",
      "source": [
        "data_test = test[['x1','x2','x3']]\n",
        "label_test = test['y']"
      ],
      "metadata": {
        "id": "1jkwJPxWVhMs"
      },
      "execution_count": null,
      "outputs": []
    },
    {
      "cell_type": "code",
      "source": [
        "data_test"
      ],
      "metadata": {
        "id": "A9BSemWXVhMt"
      },
      "execution_count": null,
      "outputs": []
    },
    {
      "cell_type": "code",
      "source": [
        "label_test"
      ],
      "metadata": {
        "id": "r3TOYr4nVhMv"
      },
      "execution_count": null,
      "outputs": []
    },
    {
      "cell_type": "code",
      "source": [
        "data_test_scaled_normalizer = pd.DataFrame(Normalizer().fit(data_train).transform(data_test), columns=data_test.columns, index=data_test.index)\n",
        "data_test_scaled_normalizer"
      ],
      "metadata": {
        "id": "mKKbqmWxbfSY"
      },
      "execution_count": null,
      "outputs": []
    },
    {
      "cell_type": "code",
      "source": [
        "nb = NaiveBayes()\n",
        "nb.fit(data_train, label_train)\n",
        "predict = nb.predict(data_test)"
      ],
      "metadata": {
        "id": "87Ff_xTjcQ7n"
      },
      "execution_count": null,
      "outputs": []
    },
    {
      "cell_type": "code",
      "source": [
        "label_predict = pd.Series(predict, name='y', index=label_test.index)\n",
        "label_predict"
      ],
      "metadata": {
        "id": "BEYHRO-pcSGv"
      },
      "execution_count": null,
      "outputs": []
    },
    {
      "cell_type": "code",
      "source": [
        "nb = NaiveBayes()\n",
        "nb.fit(data_train_scaled_normalizer, label_train)\n",
        "predict = nb.predict(data_test_scaled_normalizer)"
      ],
      "metadata": {
        "id": "uXle0vgFbqbd"
      },
      "execution_count": null,
      "outputs": []
    },
    {
      "cell_type": "code",
      "source": [
        "label_predict = pd.Series(predict, name='y', index=label_test.index)\n",
        "label_predict"
      ],
      "metadata": {
        "id": "ndAwtf-mb36I"
      },
      "execution_count": null,
      "outputs": []
    }
  ]
}